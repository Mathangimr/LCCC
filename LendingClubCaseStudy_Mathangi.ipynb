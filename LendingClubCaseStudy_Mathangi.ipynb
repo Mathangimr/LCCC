{
 "cells": [
  {
   "cell_type": "code",
   "execution_count": 2,
   "id": "ff59fc6a",
   "metadata": {},
   "outputs": [],
   "source": [
    "import pandas as pd\n",
    "import numpy as np"
   ]
  },
  {
   "cell_type": "code",
   "execution_count": 3,
   "id": "67f36a84",
   "metadata": {},
   "outputs": [
    {
     "name": "stdout",
     "output_type": "stream",
     "text": [
      "        id  member_id  loan_amnt  funded_amnt  funded_amnt_inv        term  \\\n",
      "0  1077501    1296599       5000         5000           4975.0   36 months   \n",
      "1  1077430    1314167       2500         2500           2500.0   60 months   \n",
      "2  1077175    1313524       2400         2400           2400.0   36 months   \n",
      "3  1076863    1277178      10000        10000          10000.0   36 months   \n",
      "4  1075358    1311748       3000         3000           3000.0   60 months   \n",
      "\n",
      "  int_rate  installment grade sub_grade  ... num_tl_90g_dpd_24m  \\\n",
      "0   10.65%       162.87     B        B2  ...                NaN   \n",
      "1   15.27%        59.83     C        C4  ...                NaN   \n",
      "2   15.96%        84.33     C        C5  ...                NaN   \n",
      "3   13.49%       339.31     C        C1  ...                NaN   \n",
      "4   12.69%        67.79     B        B5  ...                NaN   \n",
      "\n",
      "  num_tl_op_past_12m pct_tl_nvr_dlq  percent_bc_gt_75 pub_rec_bankruptcies  \\\n",
      "0                NaN            NaN               NaN                  0.0   \n",
      "1                NaN            NaN               NaN                  0.0   \n",
      "2                NaN            NaN               NaN                  0.0   \n",
      "3                NaN            NaN               NaN                  0.0   \n",
      "4                NaN            NaN               NaN                  0.0   \n",
      "\n",
      "  tax_liens tot_hi_cred_lim total_bal_ex_mort total_bc_limit  \\\n",
      "0       0.0             NaN               NaN            NaN   \n",
      "1       0.0             NaN               NaN            NaN   \n",
      "2       0.0             NaN               NaN            NaN   \n",
      "3       0.0             NaN               NaN            NaN   \n",
      "4       0.0             NaN               NaN            NaN   \n",
      "\n",
      "  total_il_high_credit_limit  \n",
      "0                        NaN  \n",
      "1                        NaN  \n",
      "2                        NaN  \n",
      "3                        NaN  \n",
      "4                        NaN  \n",
      "\n",
      "[5 rows x 111 columns]\n"
     ]
    }
   ],
   "source": [
    "loan_data=pd.read_csv('loan1.csv', low_memory=False)\n",
    "print(loan_data.head())"
   ]
  },
  {
   "cell_type": "code",
   "execution_count": 4,
   "id": "b6c132b8",
   "metadata": {},
   "outputs": [
    {
     "data": {
      "text/plain": [
       "1077501    1\n",
       "568534     1\n",
       "568659     1\n",
       "567165     1\n",
       "568531     1\n",
       "          ..\n",
       "785667     1\n",
       "785659     1\n",
       "785630     1\n",
       "785626     1\n",
       "87023      1\n",
       "Name: id, Length: 39717, dtype: int64"
      ]
     },
     "execution_count": 4,
     "metadata": {},
     "output_type": "execute_result"
    }
   ],
   "source": [
    "loan_data['id'].value_counts()"
   ]
  },
  {
   "cell_type": "code",
   "execution_count": 10,
   "id": "70815a69",
   "metadata": {},
   "outputs": [
    {
     "data": {
      "text/plain": [
       "id                                0\n",
       "member_id                         0\n",
       "loan_amnt                         0\n",
       "funded_amnt                       0\n",
       "funded_amnt_inv                   0\n",
       "                              ...  \n",
       "tax_liens                        39\n",
       "tot_hi_cred_lim               39717\n",
       "total_bal_ex_mort             39717\n",
       "total_bc_limit                39717\n",
       "total_il_high_credit_limit    39717\n",
       "Length: 111, dtype: int64"
      ]
     },
     "execution_count": 10,
     "metadata": {},
     "output_type": "execute_result"
    }
   ],
   "source": [
    "loan_data.isnull().sum()\n",
    "\n"
   ]
  },
  {
   "cell_type": "code",
   "execution_count": 13,
   "id": "189df893",
   "metadata": {},
   "outputs": [
    {
     "data": {
      "text/plain": [
       "id                              int64\n",
       "member_id                       int64\n",
       "loan_amnt                       int64\n",
       "funded_amnt                     int64\n",
       "funded_amnt_inv               float64\n",
       "                               ...   \n",
       "tax_liens                     float64\n",
       "tot_hi_cred_lim               float64\n",
       "total_bal_ex_mort             float64\n",
       "total_bc_limit                float64\n",
       "total_il_high_credit_limit    float64\n",
       "Length: 111, dtype: object"
      ]
     },
     "execution_count": 13,
     "metadata": {},
     "output_type": "execute_result"
    }
   ],
   "source": [
    "loan_data.dtypes"
   ]
  },
  {
   "cell_type": "code",
   "execution_count": 19,
   "id": "a7a33756",
   "metadata": {},
   "outputs": [
    {
     "data": {
      "text/plain": [
       "Index(['id', 'member_id', 'loan_amnt', 'funded_amnt', 'funded_amnt_inv',\n",
       "       'term', 'int_rate', 'installment', 'grade', 'sub_grade',\n",
       "       ...\n",
       "       'num_tl_90g_dpd_24m', 'num_tl_op_past_12m', 'pct_tl_nvr_dlq',\n",
       "       'percent_bc_gt_75', 'pub_rec_bankruptcies', 'tax_liens',\n",
       "       'tot_hi_cred_lim', 'total_bal_ex_mort', 'total_bc_limit',\n",
       "       'total_il_high_credit_limit'],\n",
       "      dtype='object', length=111)"
      ]
     },
     "execution_count": 19,
     "metadata": {},
     "output_type": "execute_result"
    }
   ],
   "source": [
    "loan_data.columns\n",
    "\n"
   ]
  },
  {
   "cell_type": "code",
   "execution_count": 2,
   "id": "90c4ebe0",
   "metadata": {},
   "outputs": [
    {
     "ename": "NameError",
     "evalue": "name 'loan_data' is not defined",
     "output_type": "error",
     "traceback": [
      "\u001b[1;31m---------------------------------------------------------------------------\u001b[0m",
      "\u001b[1;31mNameError\u001b[0m                                 Traceback (most recent call last)",
      "Cell \u001b[1;32mIn[2], line 1\u001b[0m\n\u001b[1;32m----> 1\u001b[0m \u001b[43mloan_data\u001b[49m\u001b[38;5;241m.\u001b[39mdescribe()\n",
      "\u001b[1;31mNameError\u001b[0m: name 'loan_data' is not defined"
     ]
    }
   ],
   "source": [
    "loan_data.describe()"
   ]
  },
  {
   "cell_type": "code",
   "execution_count": 21,
   "id": "8cb734f4",
   "metadata": {},
   "outputs": [
    {
     "name": "stdout",
     "output_type": "stream",
     "text": [
      "<class 'pandas.core.frame.DataFrame'>\n",
      "RangeIndex: 39717 entries, 0 to 39716\n",
      "Columns: 111 entries, id to total_il_high_credit_limit\n",
      "dtypes: float64(74), int64(13), object(24)\n",
      "memory usage: 33.6+ MB\n"
     ]
    }
   ],
   "source": [
    "loan_data.info()"
   ]
  },
  {
   "cell_type": "code",
   "execution_count": 25,
   "id": "307618a2",
   "metadata": {},
   "outputs": [
    {
     "data": {
      "text/plain": [
       "RangeIndex(start=0, stop=39717, step=1)"
      ]
     },
     "execution_count": 25,
     "metadata": {},
     "output_type": "execute_result"
    }
   ],
   "source": [
    "loan_data.index"
   ]
  },
  {
   "cell_type": "code",
   "execution_count": 33,
   "id": "1453c21c",
   "metadata": {},
   "outputs": [
    {
     "name": "stdout",
     "output_type": "stream",
     "text": [
      "<class 'pandas.core.series.Series'>\n",
      "RangeIndex: 39717 entries, 0 to 39716\n",
      "Series name: id\n",
      "Non-Null Count  Dtype\n",
      "--------------  -----\n",
      "39717 non-null  int64\n",
      "dtypes: int64(1)\n",
      "memory usage: 310.4 KB\n",
      "None\n",
      "<class 'pandas.core.series.Series'>\n",
      "RangeIndex: 39717 entries, 0 to 39716\n",
      "Series name: member_id\n",
      "Non-Null Count  Dtype\n",
      "--------------  -----\n",
      "39717 non-null  int64\n",
      "dtypes: int64(1)\n",
      "memory usage: 310.4 KB\n",
      "None\n"
     ]
    }
   ],
   "source": [
    "print(loan_data['id'].info())\n",
    "print(loan_data['member_id'].info())"
   ]
  },
  {
   "cell_type": "code",
   "execution_count": 31,
   "id": "34796e3a",
   "metadata": {},
   "outputs": [
    {
     "name": "stdout",
     "output_type": "stream",
     "text": [
      "True\n",
      "True\n"
     ]
    }
   ],
   "source": [
    "print(loan_data['id'].is_unique)\n",
    "print(loan_data['member_id'].is_unique)"
   ]
  },
  {
   "cell_type": "code",
   "execution_count": null,
   "id": "a2ec3640",
   "metadata": {},
   "outputs": [],
   "source": [
    "# id is considered as index instead of member_id, because if the same member is applying for a new loan, then member_id might be same but id will be a new id given for that member"
   ]
  }
 ],
 "metadata": {
  "kernelspec": {
   "display_name": "Python 3 (ipykernel)",
   "language": "python",
   "name": "python3"
  },
  "language_info": {
   "codemirror_mode": {
    "name": "ipython",
    "version": 3
   },
   "file_extension": ".py",
   "mimetype": "text/x-python",
   "name": "python",
   "nbconvert_exporter": "python",
   "pygments_lexer": "ipython3",
   "version": "3.10.9"
  }
 },
 "nbformat": 4,
 "nbformat_minor": 5
}
